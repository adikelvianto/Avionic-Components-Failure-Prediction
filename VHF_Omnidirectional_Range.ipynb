{
  "nbformat": 4,
  "nbformat_minor": 0,
  "metadata": {
    "colab": {
      "name": "VHF Omnidirectional Range.ipynb",
      "provenance": [],
      "collapsed_sections": [],
      "toc_visible": true
    },
    "kernelspec": {
      "display_name": "Python 3",
      "name": "python3"
    },
    "language_info": {
      "name": "python"
    }
  },
  "cells": [
    {
      "cell_type": "code",
      "metadata": {
        "colab": {
          "base_uri": "https://localhost:8080/"
        },
        "id": "UGvCUlTPP73J",
        "outputId": "613fd36a-1759-47b7-966c-c04c04a67203"
      },
      "source": [
        "from google.colab import drive\n",
        "drive.mount('/content/drive')"
      ],
      "execution_count": null,
      "outputs": [
        {
          "output_type": "stream",
          "name": "stdout",
          "text": [
            "Mounted at /content/drive\n"
          ]
        }
      ]
    },
    {
      "cell_type": "markdown",
      "metadata": {
        "id": "lcLwid3yKLt4"
      },
      "source": [
        "### ***Machine Learning Section for VOR***"
      ]
    },
    {
      "cell_type": "markdown",
      "metadata": {
        "id": "wc_DDVb6eRUe"
      },
      "source": [
        "#### ***a. Libraries***"
      ]
    },
    {
      "cell_type": "code",
      "metadata": {
        "id": "c4_8-N3ceX3m"
      },
      "source": [
        "import pandas as pd\n",
        "import numpy as np\n",
        "from numpy import mean,std\n",
        "import seaborn as sn\n",
        "import matplotlib.pyplot as plt\n",
        "from collections import Counter\n",
        "\n",
        "#Pre processing and scoring library\n",
        "from sklearn.datasets import make_classification\n",
        "from sklearn.preprocessing import label_binarize\n",
        "from sklearn.model_selection import KFold,train_test_split,cross_val_score,StratifiedKFold,RepeatedKFold,GridSearchCV\n",
        "from sklearn.metrics import make_scorer, accuracy_score,precision_score\n",
        "from sklearn.metrics import classification_report\n",
        "from sklearn.metrics import confusion_matrix\n",
        "from sklearn.metrics import accuracy_score, precision_score,recall_score,f1_score,roc_auc_score, roc_curve,auc\n",
        "\n",
        "#Model Selection Library\n",
        "from sklearn.ensemble import RandomForestClassifier,GradientBoostingClassifier\n",
        "from sklearn.linear_model import  LogisticRegression\n",
        "from sklearn.linear_model import SGDClassifier\n",
        "from sklearn.tree import DecisionTreeClassifier\n",
        "from sklearn.neighbors import KNeighborsClassifier\n",
        "from sklearn.svm import SVC, LinearSVC\n",
        "from sklearn.naive_bayes import GaussianNB\n",
        "from sklearn.neural_network import MLPClassifier\n",
        "from sklearn.multiclass import OneVsRestClassifier\n"
      ],
      "execution_count": null,
      "outputs": []
    },
    {
      "cell_type": "markdown",
      "metadata": {
        "id": "ZgU1JcndhBhN"
      },
      "source": [
        "#### ***b. Preprocessing***"
      ]
    },
    {
      "cell_type": "code",
      "metadata": {
        "colab": {
          "base_uri": "https://localhost:8080/"
        },
        "id": "7KKCVOLha4dP",
        "outputId": "c6d823c8-6d48-4f26-ab8f-687fa771c28f"
      },
      "source": [
        "df = pd.read_csv('VOR Train Test.csv')\n",
        "df = df.drop('ORDER',axis=1)\n",
        "\n",
        "Features = df.iloc [:,0:-1].values      # Feature Matrix / Independent Variables\n",
        "Targets, Values = pd.factorize(df[\"FAULTY PARTS\"])      # Target Matrix / Dependent Variable\n",
        "\n",
        "Targets_unique = np.unique(Targets)\n",
        "Values_unique = Values\n",
        "print(\"Number of orders used is :\", Features.shape[0])\n",
        "\n",
        "# Print Legend of Targets\n",
        "print('Legend: ')\n",
        "for Targets_unique,Values_unique in enumerate(Values_unique):\n",
        "    print (Targets_unique,\"=\",Values_unique)\n",
        "\n",
        "from sklearn.model_selection import train_test_split\n",
        "X_train, X_test, y_train, y_test = train_test_split(Features,Targets,test_size = 0.3,stratify=Targets)"
      ],
      "execution_count": null,
      "outputs": [
        {
          "output_type": "stream",
          "name": "stdout",
          "text": [
            "Number of orders used is : 35\n",
            "Legend: \n",
            "0 = MICROCIRCUIT 822-0297-001\n",
            "1 = MICROCIRCUIT 351-1392-180\n",
            "2 = MICROCIRCUIT 850-1051-230\n",
            "3 = MICROCIRCUIT 850-1017-020\n",
            "4 = MICROCIRCUIT 351-0655-010\n",
            "5 = OSCILLATOR 850-1017-020\n",
            "6 = OSCILLATOR 850-1051-210\n"
          ]
        }
      ]
    },
    {
      "cell_type": "markdown",
      "metadata": {
        "id": "21OCEk8tsn8Z"
      },
      "source": [
        "#### ***c. Load Model with Tuned Parameters***"
      ]
    },
    {
      "cell_type": "markdown",
      "metadata": {
        "id": "YKHmGy-Xw_la"
      },
      "source": [
        "Best parameters for each model that have been searched from **section e** is used here to generate classification model."
      ]
    },
    {
      "cell_type": "code",
      "metadata": {
        "id": "1ZfF9Pors0Ui"
      },
      "source": [
        "# Using each params variable that get from each hyperparameter tuning\n",
        "\n",
        "# Random Forest\n",
        "rf = RandomForestClassifier(bootstrap=False, max_depth=100, max_features='sqrt', n_estimators=120)\n",
        "\n",
        "# Gradient Boosting\n",
        "gb = GradientBoostingClassifier(max_depth=5, max_features='sqrt', n_estimators=50)\n",
        "\n",
        "# Decision Tree\n",
        "dt = DecisionTreeClassifier(criterion='entropy', max_depth=8, max_features='log2',max_leaf_nodes=22)\n",
        "\n",
        "# Naive Bayes\n",
        "nb =  GaussianNB(var_smoothing=0.43287612810830584)\n",
        "\n",
        "# K-Nearest Neighbour\n",
        "knn = KNeighborsClassifier(metric='euclidean', n_neighbors=1)\n",
        "\n",
        "# Support Vector Machine\n",
        "svc = OneVsRestClassifier(estimator=SVC(C=100, gamma=0.1, kernel='sigmoid', probability=True))\n",
        "\n",
        "# Logistic Regression\n",
        "lr = OneVsRestClassifier(estimator=LogisticRegression(C=100, max_iter=1000,solver='liblinear'))\n",
        "\n",
        "# Multilayer Perceptron\n",
        "mlp = MLPClassifier(learning_rate='invscaling', max_iter=5000, solver='lbfgs')"
      ],
      "execution_count": null,
      "outputs": []
    },
    {
      "cell_type": "code",
      "source": [
        "# Fit the model with training set\n",
        "lr.fit(X_train, y_train)\n",
        "gb.fit(X_train, y_train)\n",
        "dt.fit(X_train, y_train)\n",
        "rf.fit(X_train, y_train)\n",
        "nb.fit(X_train, y_train)\n",
        "knn.fit(X_train, y_train)\n",
        "svc.fit(X_train, y_train)\n",
        "mlp.fit(X_train, y_train)"
      ],
      "metadata": {
        "colab": {
          "base_uri": "https://localhost:8080/"
        },
        "id": "kVFhsizYXVAn",
        "outputId": "8ca8bf65-d101-473a-e535-1c190e5186da"
      },
      "execution_count": null,
      "outputs": [
        {
          "output_type": "execute_result",
          "data": {
            "text/plain": [
              "MLPClassifier(learning_rate='invscaling', max_iter=5000, solver='lbfgs')"
            ]
          },
          "metadata": {},
          "execution_count": 6
        }
      ]
    },
    {
      "cell_type": "markdown",
      "metadata": {
        "id": "y1xjwJbAtH2z"
      },
      "source": [
        "#### ***d. Model Evaluation***"
      ]
    },
    {
      "cell_type": "markdown",
      "metadata": {
        "id": "Tamh7I7Cnk2i"
      },
      "source": [
        "##### ***Each Model Prediction Test Result***\n",
        "\n",
        "\n"
      ]
    },
    {
      "cell_type": "markdown",
      "metadata": {
        "id": "ILvmYatUn9Mx"
      },
      "source": [
        "###### ***Test Result Function***"
      ]
    },
    {
      "cell_type": "code",
      "metadata": {
        "id": "-xw2vhXaryAv"
      },
      "source": [
        "def conf_matrix(model,model_name):\n",
        "    \n",
        "    y_pred = model.predict(X_test)\n",
        "    cm = confusion_matrix(y_test, y_pred)\n",
        "    \n",
        "    accuracy = round(accuracy_score(y_test, y_pred) * 100, 1)\n",
        "    print(\"Accuracy of %s \"%model_name + \"model for validation data set is {:.1f}%\".format(accuracy))\n",
        "    print(\"With confusion matrix for validation data set is shown below:\")\n",
        "    \n",
        " \n",
        "    ytest_un = np.unique(y_test)\n",
        "    ypred_un = np.unique(y_pred)\n",
        "    combined = [*ytest_un, *ypred_un]\n",
        "    combined_un = np.unique(combined)\n",
        "\n",
        "    Values_cm = Values\n",
        "\n",
        "    df_cm = pd.DataFrame(cm, index = [i for i in combined_un],\n",
        "                      columns = [i for i in combined_un])\n",
        "    \n",
        "    # Ploting\n",
        "    plt.figure(figsize = (5,3))\n",
        "    ax = plt.axes()\n",
        "    sn.heatmap(df_cm, annot=True,cmap=\"Blues\")\n",
        "    ax.set_title('Confusion Matrix of %s Model'%model_name)\n",
        "    plt.show()\n",
        "\n",
        "    print (\"Where: \")\n",
        "\n",
        "    for combined_un,Values_cm in enumerate(Values_cm):\n",
        "      print (combined_un,\"=\",Values_cm)"
      ],
      "execution_count": null,
      "outputs": []
    },
    {
      "cell_type": "markdown",
      "metadata": {
        "id": "2Ojk-h0foPgz"
      },
      "source": [
        "###### ***Random Forest Result***"
      ]
    },
    {
      "cell_type": "code",
      "metadata": {
        "colab": {
          "base_uri": "https://localhost:8080/",
          "height": 401
        },
        "id": "gWYOsV1povyb",
        "outputId": "00f7c58a-c26b-4b19-fc20-5b0b78044f9e"
      },
      "source": [
        "model = rf\n",
        "model_name = \"Random Forest\"\n",
        "conf_matrix(model, model_name)\n"
      ],
      "execution_count": null,
      "outputs": [
        {
          "output_type": "stream",
          "name": "stdout",
          "text": [
            "Accuracy of Random Forest model for validation data set is 72.7%\n",
            "With confusion matrix for validation data set is shown below:\n"
          ]
        },
        {
          "output_type": "display_data",
          "data": {
            "image/png": "[encoded data removed]",
            "text/plain": [
              "<Figure size 360x216 with 2 Axes>"
            ]
          },
          "metadata": {
            "needs_background": "light"
          }
        },
        {
          "output_type": "stream",
          "name": "stdout",
          "text": [
            "Where: \n",
            "0 = MICROCIRCUIT 822-0297-001\n",
            "1 = MICROCIRCUIT 351-1392-180\n",
            "2 = MICROCIRCUIT 850-1051-230\n",
            "3 = MICROCIRCUIT 850-1017-020\n",
            "4 = MICROCIRCUIT 351-0655-010\n",
            "5 = OSCILLATOR 850-1017-020\n",
            "6 = OSCILLATOR 850-1051-210\n"
          ]
        }
      ]
    },
    {
      "cell_type": "markdown",
      "metadata": {
        "id": "p6-ZBS3jDVYZ"
      },
      "source": [
        "###### ***Gradient Boosting Result***"
      ]
    },
    {
      "cell_type": "code",
      "metadata": {
        "colab": {
          "base_uri": "https://localhost:8080/",
          "height": 401
        },
        "id": "5VR0BWmHDavP",
        "outputId": "4890d810-5a6c-452a-afcb-9f62acc2d8f1"
      },
      "source": [
        "model = gb\n",
        "model_name = \"Gradient Boosting\"\n",
        "conf_matrix(model, model_name)"
      ],
      "execution_count": null,
      "outputs": [
        {
          "output_type": "stream",
          "name": "stdout",
          "text": [
            "Accuracy of Gradient Boosting model for validation data set is 72.7%\n",
            "With confusion matrix for validation data set is shown below:\n"
          ]
        },
        {
          "output_type": "display_data",
          "data": {
            "image/png": "[encoded data removed]",
            "text/plain": [
              "<Figure size 360x216 with 2 Axes>"
            ]
          },
          "metadata": {
            "needs_background": "light"
          }
        },
        {
          "output_type": "stream",
          "name": "stdout",
          "text": [
            "Where: \n",
            "0 = MICROCIRCUIT 822-0297-001\n",
            "1 = MICROCIRCUIT 351-1392-180\n",
            "2 = MICROCIRCUIT 850-1051-230\n",
            "3 = MICROCIRCUIT 850-1017-020\n",
            "4 = MICROCIRCUIT 351-0655-010\n",
            "5 = OSCILLATOR 850-1017-020\n",
            "6 = OSCILLATOR 850-1051-210\n"
          ]
        }
      ]
    },
    {
      "cell_type": "markdown",
      "metadata": {
        "id": "vnKn_6P3M-Fl"
      },
      "source": [
        "###### ***Gaussian Naive Bayes Result***"
      ]
    },
    {
      "cell_type": "code",
      "metadata": {
        "colab": {
          "base_uri": "https://localhost:8080/",
          "height": 401
        },
        "id": "6eFA9PorNDVT",
        "outputId": "a078e58b-33df-44d1-8a62-4e9ee5d856c9"
      },
      "source": [
        "model = nb\n",
        "model_name = \"Gaussian Naive Bayes\"\n",
        "conf_matrix(model, model_name)"
      ],
      "execution_count": null,
      "outputs": [
        {
          "output_type": "stream",
          "name": "stdout",
          "text": [
            "Accuracy of Gaussian Naive Bayes model for validation data set is 63.6%\n",
            "With confusion matrix for validation data set is shown below:\n"
          ]
        },
        {
          "output_type": "display_data",
          "data": {
            "image/png": "[encoded data removed]",
            "text/plain": [
              "<Figure size 360x216 with 2 Axes>"
            ]
          },
          "metadata": {
            "needs_background": "light"
          }
        },
        {
          "output_type": "stream",
          "name": "stdout",
          "text": [
            "Where: \n",
            "0 = MICROCIRCUIT 822-0297-001\n",
            "1 = MICROCIRCUIT 351-1392-180\n",
            "2 = MICROCIRCUIT 850-1051-230\n",
            "3 = MICROCIRCUIT 850-1017-020\n",
            "4 = MICROCIRCUIT 351-0655-010\n",
            "5 = OSCILLATOR 850-1017-020\n",
            "6 = OSCILLATOR 850-1051-210\n"
          ]
        }
      ]
    },
    {
      "cell_type": "markdown",
      "metadata": {
        "id": "BoO1PAgYoaTy"
      },
      "source": [
        "###### ***Decision Tree Result***"
      ]
    },
    {
      "cell_type": "code",
      "metadata": {
        "colab": {
          "base_uri": "https://localhost:8080/",
          "height": 401
        },
        "id": "fXc7UQl7pBgb",
        "outputId": "02b17c28-5ac7-4913-e6de-8b9c1960ef7c"
      },
      "source": [
        "model = dt\n",
        "model_name = \"Decision Tree\"\n",
        "conf_matrix(model, model_name)"
      ],
      "execution_count": null,
      "outputs": [
        {
          "output_type": "stream",
          "name": "stdout",
          "text": [
            "Accuracy of Decision Tree model for validation data set is 63.6%\n",
            "With confusion matrix for validation data set is shown below:\n"
          ]
        },
        {
          "output_type": "display_data",
          "data": {
            "image/png": "[encoded data removed]",
            "text/plain": [
              "<Figure size 360x216 with 2 Axes>"
            ]
          },
          "metadata": {
            "needs_background": "light"
          }
        },
        {
          "output_type": "stream",
          "name": "stdout",
          "text": [
            "Where: \n",
            "0 = MICROCIRCUIT 822-0297-001\n",
            "1 = MICROCIRCUIT 351-1392-180\n",
            "2 = MICROCIRCUIT 850-1051-230\n",
            "3 = MICROCIRCUIT 850-1017-020\n",
            "4 = MICROCIRCUIT 351-0655-010\n",
            "5 = OSCILLATOR 850-1017-020\n",
            "6 = OSCILLATOR 850-1051-210\n"
          ]
        }
      ]
    },
    {
      "cell_type": "markdown",
      "metadata": {
        "id": "ITevEg16ofBj"
      },
      "source": [
        "###### ***K-Nearest Neighbors Result***"
      ]
    },
    {
      "cell_type": "code",
      "metadata": {
        "colab": {
          "base_uri": "https://localhost:8080/",
          "height": 401
        },
        "id": "o0rUdTq-pEOa",
        "outputId": "b73a3bc4-94f1-4a8c-b3b7-30c5a601bebc"
      },
      "source": [
        "model = knn\n",
        "model_name = \"KNN\"\n",
        "conf_matrix(model, model_name)"
      ],
      "execution_count": null,
      "outputs": [
        {
          "output_type": "stream",
          "name": "stdout",
          "text": [
            "Accuracy of KNN model for validation data set is 72.7%\n",
            "With confusion matrix for validation data set is shown below:\n"
          ]
        },
        {
          "output_type": "display_data",
          "data": {
            "image/png": "[encoded data removed]",
            "text/plain": [
              "<Figure size 360x216 with 2 Axes>"
            ]
          },
          "metadata": {
            "needs_background": "light"
          }
        },
        {
          "output_type": "stream",
          "name": "stdout",
          "text": [
            "Where: \n",
            "0 = MICROCIRCUIT 822-0297-001\n",
            "1 = MICROCIRCUIT 351-1392-180\n",
            "2 = MICROCIRCUIT 850-1051-230\n",
            "3 = MICROCIRCUIT 850-1017-020\n",
            "4 = MICROCIRCUIT 351-0655-010\n",
            "5 = OSCILLATOR 850-1017-020\n",
            "6 = OSCILLATOR 850-1051-210\n"
          ]
        }
      ]
    },
    {
      "cell_type": "markdown",
      "metadata": {
        "id": "Ui1jcDACokH5"
      },
      "source": [
        "###### ***Support Vector Machine Result***"
      ]
    },
    {
      "cell_type": "code",
      "metadata": {
        "colab": {
          "base_uri": "https://localhost:8080/",
          "height": 401
        },
        "id": "WJszYNKKpJDV",
        "outputId": "68658f92-a95a-4708-d2f6-3f07be174e45"
      },
      "source": [
        "model = svc\n",
        "model_name = \"Support Vector Machine\"\n",
        "conf_matrix(model, model_name)"
      ],
      "execution_count": null,
      "outputs": [
        {
          "output_type": "stream",
          "name": "stdout",
          "text": [
            "Accuracy of Support Vector Machine model for validation data set is 63.6%\n",
            "With confusion matrix for validation data set is shown below:\n"
          ]
        },
        {
          "output_type": "display_data",
          "data": {
            "image/png": "[encoded data removed]",
            "text/plain": [
              "<Figure size 360x216 with 2 Axes>"
            ]
          },
          "metadata": {
            "needs_background": "light"
          }
        },
        {
          "output_type": "stream",
          "name": "stdout",
          "text": [
            "Where: \n",
            "0 = MICROCIRCUIT 822-0297-001\n",
            "1 = MICROCIRCUIT 351-1392-180\n",
            "2 = MICROCIRCUIT 850-1051-230\n",
            "3 = MICROCIRCUIT 850-1017-020\n",
            "4 = MICROCIRCUIT 351-0655-010\n",
            "5 = OSCILLATOR 850-1017-020\n",
            "6 = OSCILLATOR 850-1051-210\n"
          ]
        }
      ]
    },
    {
      "cell_type": "markdown",
      "metadata": {
        "id": "pV59l8m_ooRy"
      },
      "source": [
        "###### ***Logistic Regression Result***"
      ]
    },
    {
      "cell_type": "code",
      "metadata": {
        "colab": {
          "base_uri": "https://localhost:8080/",
          "height": 401
        },
        "id": "VX7PwGjgpJ-9",
        "outputId": "7303d1cd-a26e-4606-ccb8-2881b10b8239"
      },
      "source": [
        "model = lr\n",
        "model_name = \"Logistic Regression\"\n",
        "conf_matrix(model, model_name)"
      ],
      "execution_count": null,
      "outputs": [
        {
          "output_type": "stream",
          "name": "stdout",
          "text": [
            "Accuracy of Logistic Regression model for validation data set is 72.7%\n",
            "With confusion matrix for validation data set is shown below:\n"
          ]
        },
        {
          "output_type": "display_data",
          "data": {
            "image/png": "[encoded data removed]",
            "text/plain": [
              "<Figure size 360x216 with 2 Axes>"
            ]
          },
          "metadata": {
            "needs_background": "light"
          }
        },
        {
          "output_type": "stream",
          "name": "stdout",
          "text": [
            "Where: \n",
            "0 = MICROCIRCUIT 822-0297-001\n",
            "1 = MICROCIRCUIT 351-1392-180\n",
            "2 = MICROCIRCUIT 850-1051-230\n",
            "3 = MICROCIRCUIT 850-1017-020\n",
            "4 = MICROCIRCUIT 351-0655-010\n",
            "5 = OSCILLATOR 850-1017-020\n",
            "6 = OSCILLATOR 850-1051-210\n"
          ]
        }
      ]
    },
    {
      "cell_type": "markdown",
      "metadata": {
        "id": "8Bf8gXULorhh"
      },
      "source": [
        "###### ***MultiLayer Perceptron Result***"
      ]
    },
    {
      "cell_type": "code",
      "metadata": {
        "colab": {
          "base_uri": "https://localhost:8080/",
          "height": 401
        },
        "id": "LU1l0IX9pO3h",
        "outputId": "28ccaa96-377e-4268-87b2-32208ef96ecb"
      },
      "source": [
        "model = mlp\n",
        "model_name = \"MultiLayer Perceptron\"\n",
        "conf_matrix(model, model_name)"
      ],
      "execution_count": null,
      "outputs": [
        {
          "output_type": "stream",
          "name": "stdout",
          "text": [
            "Accuracy of MultiLayer Perceptron model for validation data set is 81.8%\n",
            "With confusion matrix for validation data set is shown below:\n"
          ]
        },
        {
          "output_type": "display_data",
          "data": {
            "image/png": "[encoded data removed]",
            "text/plain": [
              "<Figure size 360x216 with 2 Axes>"
            ]
          },
          "metadata": {
            "needs_background": "light"
          }
        },
        {
          "output_type": "stream",
          "name": "stdout",
          "text": [
            "Where: \n",
            "0 = MICROCIRCUIT 822-0297-001\n",
            "1 = MICROCIRCUIT 351-1392-180\n",
            "2 = MICROCIRCUIT 850-1051-230\n",
            "3 = MICROCIRCUIT 850-1017-020\n",
            "4 = MICROCIRCUIT 351-0655-010\n",
            "5 = OSCILLATOR 850-1017-020\n",
            "6 = OSCILLATOR 850-1051-210\n"
          ]
        }
      ]
    },
    {
      "cell_type": "markdown",
      "metadata": {
        "id": "cD4Gfoq4rNIK"
      },
      "source": [
        "#### ***e. Hyperparameter Tuning with Unbiased Accuracy***"
      ]
    },
    {
      "cell_type": "markdown",
      "metadata": {
        "id": "TLZNaXvsEbnR"
      },
      "source": [
        "##### ***Hyperparameter Summary***\n",
        "\n",
        "It is obtained from another python file named \"Nested CV VOR\""
      ]
    },
    {
      "cell_type": "markdown",
      "metadata": {
        "id": "dzhW6KU8ugWK"
      },
      "source": [
        "***Summary:***\n",
        "\n",
        "\n",
        "*   ***Random Forest Best Parameter:*** \n",
        "RandomForestClassifier(bootstrap=False, max_depth=100, max_features='sqrt',n_estimators=120)\n",
        "\n",
        "*   ***Gradient Boosting Best Parameter:*** \n",
        "GradientBoostingClassifier(max_depth=5, max_features='sqrt', n_estimators=50)\n",
        "\n",
        "*  ***Gaussian Naive Bayes Best Parameter:*** \n",
        "GaussianNB(var_smoothing=0.43287612810830584)\n",
        "\n",
        "*  ***Decision Tree Best Parameter:*** DecisionTreeClassifier(criterion='entropy', max_depth=8, max_features='log2',max_leaf_nodes=22)\n",
        "\n",
        "*  ***KNN Best Parameter:*** KNeighborsClassifier(metric='euclidean', n_neighbors=1)\n",
        "\n",
        "*   ***SVM Best Parameter:***\n",
        "OneVsRestClassifier(estimator=SVC(C=100, gamma=0.1, kernel='sigmoid',                          probability=True))\n",
        "\n",
        "*   ***Logistic Regression Best Parameter:*** \n",
        "OneVsRestClassifier(estimator=LogisticRegression(C=100, max_iter=1000,                         solver='liblinear'))\n",
        "*   ***Multilayer Perceptron Best Parameter:*** \n",
        "MLPClassifier(learning_rate='invscaling', max_iter=5000, solver='lbfgs')\n",
        "\n",
        "\n",
        "\n",
        "\n"
      ]
    },
    {
      "cell_type": "markdown",
      "metadata": {
        "id": "2Oi5hDe9-EzA"
      },
      "source": [
        "##### ***Unbiased Accuracy Summary***"
      ]
    },
    {
      "cell_type": "markdown",
      "metadata": {
        "id": "iyLEveSmG9tX"
      },
      "source": [
        "\n",
        "\n",
        "*   **Random Forest** Unbiased Accuracy : 69.1% ± 2.9%\n",
        "\n",
        "*   **Gradient Boosting** Unbiased Accuracy : 66.4% ± 2.9%\n",
        "\n",
        "*   **Gaussian Naive Bayes** Unbiased Accuracy : 73.8% ± 1.9%\n",
        "\n",
        "*   **Decision Tree** Unbiased Accuracy : 63.4% ± 2.7%\n",
        "\n",
        "*   **K-Nearest Neighbors** Unbiased Accuracy : 71.1% ± 1.9% \n",
        "\n",
        "*   **Support Vector Machine** Unbiased Accuracy : 62.2% ± 0.8%\n",
        "\n",
        "*   **Logistic Regression** Unbiased Accuracy : 71.8% ± 3.2%\n",
        "\n",
        "*   **Multilayer Perceptron** Unbiased Accuracy : 68.1% ± 1.7%\n",
        "\n"
      ]
    },
    {
      "cell_type": "markdown",
      "metadata": {
        "id": "XNE3bdP-_YC3"
      },
      "source": [
        "#### ***f. Save 3 Best Model as .pkl Extension***"
      ]
    },
    {
      "cell_type": "markdown",
      "metadata": {
        "id": "LdTZIpxZLBvF"
      },
      "source": [
        "By looking at each unbiased accuracy score that have been calculated above, 3 models with highest score will be choose to be save as .pkl extension, to be model prediction that will shown in WebPage \n",
        "\n",
        "Best 3 Model are: \n",
        "\n",
        "*   Gaussian Naive Bayes Model\n",
        "*   Logistic Regression\n",
        "*   K-Nearest Neighbors Model\n"
      ]
    },
    {
      "cell_type": "code",
      "metadata": {
        "id": "zQgGbeSl-LEv"
      },
      "source": [
        "# Write down variable name that give best unbiased accuracy (Open Section C. to know variable name)\n",
        "var_name_1 = nb\n",
        "var_name_2 = lr\n",
        "var_name_3 = knn\n",
        "\n",
        "# Write down the name of pickle file that will be used for each model \n",
        "pkl_name_1 = \"modelnb_VOR.pkl\"\n",
        "pkl_name_2 = \"modellr_VOR.pkl\"\n",
        "pkl_name_3 = \"modelknn_VOR.pkl\"\n",
        "\n",
        "\n",
        "# Convert the variable name and pickle file name to dictionary\n",
        "dict = {'Variable Name 1': var_name_1, 'pkl file name 1': pkl_name_1,\n",
        "        'Variable Name 2': var_name_2, 'pkl file name 2': pkl_name_2,\n",
        "        'Variable Name 3': var_name_3, 'pkl file name 3': pkl_name_3\n",
        "        }\n",
        "\n",
        "# Downloading 4 Best Model to Local Files\n",
        "\n",
        "import pickle\n",
        "pickle.dump(dict['Variable Name 1'], open(dict['pkl file name 1'],\"wb\"))\n",
        "pickle.dump(dict['Variable Name 2'], open(dict['pkl file name 2'],\"wb\"))\n",
        "pickle.dump(dict['Variable Name 3'], open(dict['pkl file name 3'],\"wb\"))\n",
        "\n",
        "from google.colab import files\n",
        "files.download(dict['pkl file name 1'])\n",
        "files.download(dict['pkl file name 2'])\n",
        "files.download(dict['pkl file name 3'])"
      ],
      "execution_count": null,
      "outputs": []
    }
  ]
}