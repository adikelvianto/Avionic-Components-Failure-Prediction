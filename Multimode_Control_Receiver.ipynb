{
  "nbformat": 4,
  "nbformat_minor": 0,
  "metadata": {
    "colab": {
      "name": "Multimode Control Receiver.ipynb",
      "provenance": [],
      "collapsed_sections": [],
      "toc_visible": true
    },
    "kernelspec": {
      "display_name": "Python 3",
      "name": "python3"
    },
    "language_info": {
      "name": "python"
    }
  },
  "cells": [
    {
      "cell_type": "code",
      "metadata": {
        "colab": {
          "base_uri": "https://localhost:8080/"
        },
        "id": "UGvCUlTPP73J",
        "outputId": "19c946e1-be29-4373-d03d-f98ee24defe4"
      },
      "source": [
        "from google.colab import drive\n",
        "drive.mount('/content/drive')"
      ],
      "execution_count": null,
      "outputs": [
        {
          "output_type": "stream",
          "name": "stdout",
          "text": [
            "Mounted at /content/drive\n"
          ]
        }
      ]
    },
    {
      "cell_type": "markdown",
      "metadata": {
        "id": "lcLwid3yKLt4"
      },
      "source": [
        "### ***Machine Learning Section for MMC***"
      ]
    },
    {
      "cell_type": "markdown",
      "metadata": {
        "id": "wc_DDVb6eRUe"
      },
      "source": [
        "#### ***a. Libraries***"
      ]
    },
    {
      "cell_type": "code",
      "metadata": {
        "id": "c4_8-N3ceX3m"
      },
      "source": [
        "import pandas as pd\n",
        "import numpy as np\n",
        "from numpy import mean,std\n",
        "import seaborn as sn\n",
        "import matplotlib.pyplot as plt\n",
        "\n",
        "#Pre processing and scoring library\n",
        "from sklearn.datasets import make_classification\n",
        "from sklearn.preprocessing import label_binarize\n",
        "from sklearn.model_selection import KFold,train_test_split,cross_val_score,StratifiedKFold,RepeatedKFold,GridSearchCV\n",
        "from sklearn.metrics import make_scorer, accuracy_score,precision_score\n",
        "from sklearn.metrics import classification_report\n",
        "from sklearn.metrics import confusion_matrix\n",
        "from sklearn.metrics import accuracy_score, precision_score,recall_score,f1_score,roc_auc_score, roc_curve,auc\n",
        "\n",
        "#Model Selection Library\n",
        "from sklearn.ensemble import RandomForestClassifier,GradientBoostingClassifier\n",
        "from sklearn.linear_model import  LogisticRegression\n",
        "from sklearn.linear_model import SGDClassifier\n",
        "from sklearn.tree import DecisionTreeClassifier\n",
        "from sklearn.neighbors import KNeighborsClassifier\n",
        "from sklearn.svm import SVC, LinearSVC\n",
        "from sklearn.naive_bayes import GaussianNB\n",
        "from sklearn.neural_network import MLPClassifier\n",
        "from sklearn.multiclass import OneVsRestClassifier\n"
      ],
      "execution_count": null,
      "outputs": []
    },
    {
      "cell_type": "markdown",
      "metadata": {
        "id": "ZgU1JcndhBhN"
      },
      "source": [
        "#### ***b. Preprocessing***"
      ]
    },
    {
      "cell_type": "code",
      "metadata": {
        "colab": {
          "base_uri": "https://localhost:8080/"
        },
        "id": "7KKCVOLha4dP",
        "outputId": "6cd793bd-946e-45a1-f64e-472a0a99d49a"
      },
      "source": [
        "df = pd.read_csv('VOR Train Test.csv')\n",
        "df = df.drop('ORDER',axis=1)\n",
        "\n",
        "Features = df.iloc [:,0:-1].values      # Feature Matrix / Independent Variables\n",
        "Targets, Values = pd.factorize(df[\"FAULTY PARTS\"])      # Target Matrix / Dependent Variable\n",
        "\n",
        "Targets_unique = np.unique(Targets)\n",
        "Values_unique = Values\n",
        "print(\"Number of orders used is :\", Features.shape[0])\n",
        "\n",
        "# Print Legend of Targets\n",
        "print('Legend: ')\n",
        "for Targets_unique,Values_unique in enumerate(Values_unique):\n",
        "    print (Targets_unique,\"=\",Values_unique)\n",
        "\n",
        "from sklearn.model_selection import train_test_split\n",
        "X_train, X_test, y_train, y_test = train_test_split(Features,Targets,test_size = 0.3,random_state=42, stratify=Targets)"
      ],
      "execution_count": null,
      "outputs": [
        {
          "output_type": "stream",
          "name": "stdout",
          "text": [
            "Number of orders used is : 36\n",
            "Legend: \n",
            "0 = 600-A16097-020\n",
            "1 = PCBASSY 701-0954-02\n",
            "2 = SWITCH 512-0150\n",
            "3 = DISPLAY 700C46204A\n",
            "4 = GASKET LIGHT SEAL 600-B46814\n",
            "5 = PCBASSY 701-0685-03\n",
            "6 = PCBASSY 701-0953-02\n",
            "7 = PCBASSY 701-0946-12\n"
          ]
        }
      ]
    },
    {
      "cell_type": "markdown",
      "metadata": {
        "id": "21OCEk8tsn8Z"
      },
      "source": [
        "#### ***c. Load Model with Tuned Parameters***"
      ]
    },
    {
      "cell_type": "markdown",
      "metadata": {
        "id": "YKHmGy-Xw_la"
      },
      "source": [
        "Best parameters for each model that have been searched from **section e** is used here to generate classification model."
      ]
    },
    {
      "cell_type": "code",
      "metadata": {
        "id": "1ZfF9Pors0Ui"
      },
      "source": [
        "# Using each params variable that get from each hyperparameter tuning\n",
        "\n",
        "# Random Forest\n",
        "rf = RandomForestClassifier(max_depth=100, max_features='log2', n_estimators=90)\n",
        "\n",
        "# Gradient Boosting\n",
        "gb = GradientBoostingClassifier(max_depth=5, max_features='sqrt', n_estimators=50)\n",
        "\n",
        "# Decision Tree\n",
        "dt = DecisionTreeClassifier(criterion='entropy', max_depth=6, max_features='auto',max_leaf_nodes=28)\n",
        "\n",
        "# Naive Bayes\n",
        "nb = GaussianNB(var_smoothing=0.1873817422860384)\n",
        "\n",
        "# K-Nearest Neighbour\n",
        "knn = KNeighborsClassifier(metric='manhattan', n_neighbors=4, weights='distance')\n",
        "\n",
        "# Support Vector Machine\n",
        "svc = OneVsRestClassifier(estimator=SVC(C=10, gamma=1, probability=True))\n",
        "\n",
        "# Logistic Regression\n",
        "lr = OneVsRestClassifier(estimator=LogisticRegression(C=100, max_iter=3000,solver='newton-cg'))\n",
        "\n",
        "# Multilayer Perceptron\n",
        "mlp = MLPClassifier(max_iter=5000)"
      ],
      "execution_count": null,
      "outputs": []
    },
    {
      "cell_type": "code",
      "metadata": {
        "colab": {
          "base_uri": "https://localhost:8080/"
        },
        "id": "HC9USoe8tL-b",
        "outputId": "b9644dfc-9f88-468c-b26f-64a64ddedae8"
      },
      "source": [
        "# Fit the model with training set\n",
        "lr.fit(X_train, y_train)\n",
        "gb.fit(X_train, y_train)\n",
        "dt.fit(X_train, y_train)\n",
        "rf.fit(X_train, y_train)\n",
        "nb.fit(X_train, y_train)\n",
        "knn.fit(X_train, y_train)\n",
        "svc.fit(X_train, y_train)\n",
        "mlp.fit(X_train, y_train)"
      ],
      "execution_count": null,
      "outputs": [
        {
          "output_type": "execute_result",
          "data": {
            "text/plain": [
              "MLPClassifier(max_iter=5000)"
            ]
          },
          "metadata": {},
          "execution_count": 5
        }
      ]
    },
    {
      "cell_type": "markdown",
      "metadata": {
        "id": "y1xjwJbAtH2z"
      },
      "source": [
        "#### ***d. Model Evaluation***"
      ]
    },
    {
      "cell_type": "markdown",
      "metadata": {
        "id": "Tamh7I7Cnk2i"
      },
      "source": [
        "##### ***Each Model Prediction Test Result***\n",
        "\n",
        "\n"
      ]
    },
    {
      "cell_type": "markdown",
      "metadata": {
        "id": "ILvmYatUn9Mx"
      },
      "source": [
        "###### ***Test Result Function***"
      ]
    },
    {
      "cell_type": "code",
      "metadata": {
        "id": "-xw2vhXaryAv"
      },
      "source": [
        "def conf_matrix(model,model_name):\n",
        "    \n",
        "    y_pred = model.predict(X_test)\n",
        "    cm = confusion_matrix(y_test, y_pred)\n",
        "    \n",
        "    accuracy = round(accuracy_score(y_test, y_pred) * 100, 1)\n",
        "    print(\"Accuracy of %s \"%model_name + \"model for validation data set is {:.1f}%\".format(accuracy))\n",
        "    print(\"With confusion matrix for validation data set is shown below:\")\n",
        "    \n",
        " \n",
        "    ytest_un = np.unique(y_test)\n",
        "    ypred_un = np.unique(y_pred)\n",
        "    combined = [*ytest_un, *ypred_un]\n",
        "    combined_un = np.unique(combined)\n",
        "\n",
        "    Values_cm = Values\n",
        "\n",
        "    df_cm = pd.DataFrame(cm, index = [i for i in combined_un],\n",
        "                      columns = [i for i in combined_un])\n",
        "    \n",
        "    # Ploting\n",
        "    plt.figure(figsize = (5,3))\n",
        "    ax = plt.axes()\n",
        "    sn.heatmap(df_cm, annot=True,cmap=\"Blues\")\n",
        "    ax.set_title('Confusion Matrix of %s Model'%model_name)\n",
        "    plt.show()\n",
        "\n",
        "    print (\"Where: \")\n",
        "\n",
        "    for combined_un,Values_cm in enumerate(Values_cm):\n",
        "      print (combined_un,\"=\",Values_cm)"
      ],
      "execution_count": null,
      "outputs": []
    },
    {
      "cell_type": "markdown",
      "metadata": {
        "id": "2Ojk-h0foPgz"
      },
      "source": [
        "###### ***Random Forest Result***"
      ]
    },
    {
      "cell_type": "code",
      "metadata": {
        "colab": {
          "base_uri": "https://localhost:8080/",
          "height": 418
        },
        "id": "gWYOsV1povyb",
        "outputId": "2b8a597a-c4a7-4724-eb5b-13052993fc4d"
      },
      "source": [
        "model = rf\n",
        "model_name = \"Random Forest\"\n",
        "conf_matrix(model, model_name)\n"
      ],
      "execution_count": null,
      "outputs": [
        {
          "output_type": "stream",
          "name": "stdout",
          "text": [
            "Accuracy of Random Forest model for validation data set is 90.9%\n",
            "With confusion matrix for validation data set is shown below:\n"
          ]
        },
        {
          "output_type": "display_data",
          "data": {
            "image/png": "[encoded data removed]",
            "text/plain": [
              "<Figure size 360x216 with 2 Axes>"
            ]
          },
          "metadata": {
            "needs_background": "light"
          }
        },
        {
          "output_type": "stream",
          "name": "stdout",
          "text": [
            "Where: \n",
            "0 = 600-A16097-020\n",
            "1 = PCBASSY 701-0954-02\n",
            "2 = SWITCH 512-0150\n",
            "3 = DISPLAY 700C46204A\n",
            "4 = GASKET LIGHT SEAL 600-B46814\n",
            "5 = PCBASSY 701-0685-03\n",
            "6 = PCBASSY 701-0953-02\n",
            "7 = PCBASSY 701-0946-12\n"
          ]
        }
      ]
    },
    {
      "cell_type": "markdown",
      "metadata": {
        "id": "p6-ZBS3jDVYZ"
      },
      "source": [
        "###### ***Gradient Boosting Result***"
      ]
    },
    {
      "cell_type": "code",
      "metadata": {
        "colab": {
          "base_uri": "https://localhost:8080/",
          "height": 418
        },
        "id": "5VR0BWmHDavP",
        "outputId": "f57205ac-342a-452c-9433-2d5733c6ae17"
      },
      "source": [
        "model = gb\n",
        "model_name = \"Gradient Boosting\"\n",
        "conf_matrix(model, model_name)"
      ],
      "execution_count": null,
      "outputs": [
        {
          "output_type": "stream",
          "name": "stdout",
          "text": [
            "Accuracy of Gradient Boosting model for validation data set is 90.9%\n",
            "With confusion matrix for validation data set is shown below:\n"
          ]
        },
        {
          "output_type": "display_data",
          "data": {
            "image/png": "[encoded data removed]",
            "text/plain": [
              "<Figure size 360x216 with 2 Axes>"
            ]
          },
          "metadata": {
            "needs_background": "light"
          }
        },
        {
          "output_type": "stream",
          "name": "stdout",
          "text": [
            "Where: \n",
            "0 = 600-A16097-020\n",
            "1 = PCBASSY 701-0954-02\n",
            "2 = SWITCH 512-0150\n",
            "3 = DISPLAY 700C46204A\n",
            "4 = GASKET LIGHT SEAL 600-B46814\n",
            "5 = PCBASSY 701-0685-03\n",
            "6 = PCBASSY 701-0953-02\n",
            "7 = PCBASSY 701-0946-12\n"
          ]
        }
      ]
    },
    {
      "cell_type": "markdown",
      "metadata": {
        "id": "vnKn_6P3M-Fl"
      },
      "source": [
        "###### ***Gaussian Naive Bayes Result***"
      ]
    },
    {
      "cell_type": "code",
      "metadata": {
        "colab": {
          "base_uri": "https://localhost:8080/",
          "height": 418
        },
        "id": "6eFA9PorNDVT",
        "outputId": "cf68755a-e1fe-4699-870a-5b69d4ff4ac8"
      },
      "source": [
        "model = nb\n",
        "model_name = \"Gaussian Naive Bayes\"\n",
        "conf_matrix(model, model_name)"
      ],
      "execution_count": null,
      "outputs": [
        {
          "output_type": "stream",
          "name": "stdout",
          "text": [
            "Accuracy of Gaussian Naive Bayes model for validation data set is 81.8%\n",
            "With confusion matrix for validation data set is shown below:\n"
          ]
        },
        {
          "output_type": "display_data",
          "data": {
            "image/png": "[encoded data removed]",
            "text/plain": [
              "<Figure size 360x216 with 2 Axes>"
            ]
          },
          "metadata": {
            "needs_background": "light"
          }
        },
        {
          "output_type": "stream",
          "name": "stdout",
          "text": [
            "Where: \n",
            "0 = 600-A16097-020\n",
            "1 = PCBASSY 701-0954-02\n",
            "2 = SWITCH 512-0150\n",
            "3 = DISPLAY 700C46204A\n",
            "4 = GASKET LIGHT SEAL 600-B46814\n",
            "5 = PCBASSY 701-0685-03\n",
            "6 = PCBASSY 701-0953-02\n",
            "7 = PCBASSY 701-0946-12\n"
          ]
        }
      ]
    },
    {
      "cell_type": "markdown",
      "metadata": {
        "id": "BoO1PAgYoaTy"
      },
      "source": [
        "###### ***Decision Tree Result***"
      ]
    },
    {
      "cell_type": "code",
      "metadata": {
        "colab": {
          "base_uri": "https://localhost:8080/",
          "height": 418
        },
        "id": "fXc7UQl7pBgb",
        "outputId": "3af09ade-6a89-4c23-de69-ca359128a5b6"
      },
      "source": [
        "model = dt\n",
        "model_name = \"Decision Tree\"\n",
        "conf_matrix(model, model_name)"
      ],
      "execution_count": null,
      "outputs": [
        {
          "output_type": "stream",
          "name": "stdout",
          "text": [
            "Accuracy of Decision Tree model for validation data set is 72.7%\n",
            "With confusion matrix for validation data set is shown below:\n"
          ]
        },
        {
          "output_type": "display_data",
          "data": {
            "image/png": "[encoded data removed]",
            "text/plain": [
              "<Figure size 360x216 with 2 Axes>"
            ]
          },
          "metadata": {
            "needs_background": "light"
          }
        },
        {
          "output_type": "stream",
          "name": "stdout",
          "text": [
            "Where: \n",
            "0 = 600-A16097-020\n",
            "1 = PCBASSY 701-0954-02\n",
            "2 = SWITCH 512-0150\n",
            "3 = DISPLAY 700C46204A\n",
            "4 = GASKET LIGHT SEAL 600-B46814\n",
            "5 = PCBASSY 701-0685-03\n",
            "6 = PCBASSY 701-0953-02\n",
            "7 = PCBASSY 701-0946-12\n"
          ]
        }
      ]
    },
    {
      "cell_type": "markdown",
      "metadata": {
        "id": "ITevEg16ofBj"
      },
      "source": [
        "###### ***K-Nearest Neighbors Result***"
      ]
    },
    {
      "cell_type": "code",
      "metadata": {
        "colab": {
          "base_uri": "https://localhost:8080/",
          "height": 418
        },
        "id": "o0rUdTq-pEOa",
        "outputId": "28d36880-3aed-43ae-8a97-09927dff2e38"
      },
      "source": [
        "model = knn\n",
        "model_name = \"KNN\"\n",
        "conf_matrix(model, model_name)"
      ],
      "execution_count": null,
      "outputs": [
        {
          "output_type": "stream",
          "name": "stdout",
          "text": [
            "Accuracy of KNN model for validation data set is 90.9%\n",
            "With confusion matrix for validation data set is shown below:\n"
          ]
        },
        {
          "output_type": "display_data",
          "data": {
            "image/png": "[encoded data removed]",
            "text/plain": [
              "<Figure size 360x216 with 2 Axes>"
            ]
          },
          "metadata": {
            "needs_background": "light"
          }
        },
        {
          "output_type": "stream",
          "name": "stdout",
          "text": [
            "Where: \n",
            "0 = 600-A16097-020\n",
            "1 = PCBASSY 701-0954-02\n",
            "2 = SWITCH 512-0150\n",
            "3 = DISPLAY 700C46204A\n",
            "4 = GASKET LIGHT SEAL 600-B46814\n",
            "5 = PCBASSY 701-0685-03\n",
            "6 = PCBASSY 701-0953-02\n",
            "7 = PCBASSY 701-0946-12\n"
          ]
        }
      ]
    },
    {
      "cell_type": "markdown",
      "metadata": {
        "id": "Ui1jcDACokH5"
      },
      "source": [
        "###### ***Support Vector Machine Result***"
      ]
    },
    {
      "cell_type": "code",
      "metadata": {
        "colab": {
          "base_uri": "https://localhost:8080/",
          "height": 418
        },
        "id": "WJszYNKKpJDV",
        "outputId": "8e8777f7-a969-4aaf-a9cb-11cecc19a0ee"
      },
      "source": [
        "model = svc\n",
        "model_name = \"Support Vector Machine\"\n",
        "conf_matrix(model, model_name)"
      ],
      "execution_count": null,
      "outputs": [
        {
          "output_type": "stream",
          "name": "stdout",
          "text": [
            "Accuracy of Support Vector Machine model for validation data set is 90.9%\n",
            "With confusion matrix for validation data set is shown below:\n"
          ]
        },
        {
          "output_type": "display_data",
          "data": {
            "image/png": "[encoded data removed]",
            "text/plain": [
              "<Figure size 360x216 with 2 Axes>"
            ]
          },
          "metadata": {
            "needs_background": "light"
          }
        },
        {
          "output_type": "stream",
          "name": "stdout",
          "text": [
            "Where: \n",
            "0 = 600-A16097-020\n",
            "1 = PCBASSY 701-0954-02\n",
            "2 = SWITCH 512-0150\n",
            "3 = DISPLAY 700C46204A\n",
            "4 = GASKET LIGHT SEAL 600-B46814\n",
            "5 = PCBASSY 701-0685-03\n",
            "6 = PCBASSY 701-0953-02\n",
            "7 = PCBASSY 701-0946-12\n"
          ]
        }
      ]
    },
    {
      "cell_type": "markdown",
      "metadata": {
        "id": "pV59l8m_ooRy"
      },
      "source": [
        "###### ***Logistic Regression Result***"
      ]
    },
    {
      "cell_type": "code",
      "metadata": {
        "colab": {
          "base_uri": "https://localhost:8080/",
          "height": 418
        },
        "id": "VX7PwGjgpJ-9",
        "outputId": "70e476f0-4a6e-4a5f-e9ea-d70801a71866"
      },
      "source": [
        "model = lr\n",
        "model_name = \"Logistic Regression\"\n",
        "conf_matrix(model, model_name)"
      ],
      "execution_count": null,
      "outputs": [
        {
          "output_type": "stream",
          "name": "stdout",
          "text": [
            "Accuracy of Logistic Regression model for validation data set is 90.9%\n",
            "With confusion matrix for validation data set is shown below:\n"
          ]
        },
        {
          "output_type": "display_data",
          "data": {
            "image/png": "[encoded data removed]",
            "text/plain": [
              "<Figure size 360x216 with 2 Axes>"
            ]
          },
          "metadata": {
            "needs_background": "light"
          }
        },
        {
          "output_type": "stream",
          "name": "stdout",
          "text": [
            "Where: \n",
            "0 = 600-A16097-020\n",
            "1 = PCBASSY 701-0954-02\n",
            "2 = SWITCH 512-0150\n",
            "3 = DISPLAY 700C46204A\n",
            "4 = GASKET LIGHT SEAL 600-B46814\n",
            "5 = PCBASSY 701-0685-03\n",
            "6 = PCBASSY 701-0953-02\n",
            "7 = PCBASSY 701-0946-12\n"
          ]
        }
      ]
    },
    {
      "cell_type": "markdown",
      "metadata": {
        "id": "8Bf8gXULorhh"
      },
      "source": [
        "###### ***MultiLayer Perceptron Result***"
      ]
    },
    {
      "cell_type": "code",
      "metadata": {
        "colab": {
          "base_uri": "https://localhost:8080/",
          "height": 418
        },
        "id": "LU1l0IX9pO3h",
        "outputId": "5464bcb9-0d40-4e3b-8fbf-d681246be550"
      },
      "source": [
        "model = mlp\n",
        "model_name = \"MultiLayer Perceptron\"\n",
        "conf_matrix(model, model_name)"
      ],
      "execution_count": null,
      "outputs": [
        {
          "output_type": "stream",
          "name": "stdout",
          "text": [
            "Accuracy of MultiLayer Perceptron model for validation data set is 90.9%\n",
            "With confusion matrix for validation data set is shown below:\n"
          ]
        },
        {
          "output_type": "display_data",
          "data": {
            "image/png": "[encoded data removed]",
            "text/plain": [
              "<Figure size 360x216 with 2 Axes>"
            ]
          },
          "metadata": {
            "needs_background": "light"
          }
        },
        {
          "output_type": "stream",
          "name": "stdout",
          "text": [
            "Where: \n",
            "0 = 600-A16097-020\n",
            "1 = PCBASSY 701-0954-02\n",
            "2 = SWITCH 512-0150\n",
            "3 = DISPLAY 700C46204A\n",
            "4 = GASKET LIGHT SEAL 600-B46814\n",
            "5 = PCBASSY 701-0685-03\n",
            "6 = PCBASSY 701-0953-02\n",
            "7 = PCBASSY 701-0946-12\n"
          ]
        }
      ]
    },
    {
      "cell_type": "markdown",
      "metadata": {
        "id": "cD4Gfoq4rNIK"
      },
      "source": [
        "#### ***e. Hyperparameter Tuning with Unbiased Accuracy***"
      ]
    },
    {
      "cell_type": "markdown",
      "metadata": {
        "id": "TLZNaXvsEbnR"
      },
      "source": [
        "##### ***Hyperparameter Summary***\n",
        "\n",
        "It is obtained from another python file named \"Nested CV MMC\""
      ]
    },
    {
      "cell_type": "markdown",
      "metadata": {
        "id": "dzhW6KU8ugWK"
      },
      "source": [
        "***Summary:***\n",
        "\n",
        "\n",
        "*   ***Random Forest Best Parameter:*** \n",
        "RandomForestClassifier(max_depth=100, max_features='log2', n_estimators=90)\n",
        "\n",
        "*   ***Gradient Boosting Best Parameter:*** \n",
        "GradientBoostingClassifier(max_depth=5, max_features='sqrt', n_estimators=50)\n",
        "\n",
        "*  ***Gaussian Naive Bayes Best Parameter:*** \n",
        "GaussianNB(var_smoothing=0.1873817422860384)\n",
        "\n",
        "*  ***Decision Tree Best Parameter:*** DecisionTreeClassifier(criterion='entropy', max_depth=6, max_features='auto',max_leaf_nodes=28)\n",
        "\n",
        "*  ***KNN Best Parameter:*** KNeighborsClassifier(metric='manhattan', n_neighbors=4, weights='distance')\n",
        "\n",
        "*   ***SVM Best Parameter:***\n",
        "OneVsRestClassifier(estimator=SVC(C=10, gamma=1, probability=True))\n",
        "\n",
        "*   ***Logistic Regression Best Parameter:*** \n",
        "neVsRestClassifier(estimator=LogisticRegression(C=100, max_iter=3000, solver='newton-cg'))\n",
        "\n",
        "*   ***Multilayer Perceptron Best Parameter:*** \n",
        "MLPClassifier(max_iter=5000)\n",
        "\n",
        "\n",
        "\n",
        "\n"
      ]
    },
    {
      "cell_type": "markdown",
      "metadata": {
        "id": "2Oi5hDe9-EzA"
      },
      "source": [
        "##### ***Unbiased Accuracy Summary***"
      ]
    },
    {
      "cell_type": "markdown",
      "metadata": {
        "id": "iyLEveSmG9tX"
      },
      "source": [
        "\n",
        "\n",
        "*   **Random Forest** Unbiased Accuracy : 69.3% ± 1.4%\n",
        "*   **Gradient Boosting** Unbiased Accuracy : 67.3% ± 0.9%\n",
        "\n",
        "*   **Gaussian Naive Bayes** Unbiased Accuracy : 73.4% ± 1.6%\n",
        "\n",
        "*   **Decision Tree** Unbiased Accuracy : 52.2% ± 1.6%\n",
        "\n",
        "*   **K-Nearest Neighbors** Unbiased Accuracy : 64.6% ± 1.6%\n",
        "\n",
        "*   **Support Vector Machine** Unbiased Accuracy : 70.9% ± 1.3%\n",
        "\n",
        "*   **Logistic Regression** Unbiased Accuracy : 69.3% ± 1.5%\n",
        "\n",
        "*   **Multilayer Perceptron** Unbiased Accuracy : 68.7% ± 1.0%\n",
        "\n"
      ]
    },
    {
      "cell_type": "markdown",
      "metadata": {
        "id": "XNE3bdP-_YC3"
      },
      "source": [
        "#### ***f. Save 3 Best Model as .pkl Extension***"
      ]
    },
    {
      "cell_type": "markdown",
      "metadata": {
        "id": "LdTZIpxZLBvF"
      },
      "source": [
        "By looking at each unbiased accuracy score that have been calculated above, 3 models with highest score will be choose to be save as .pkl extension, to be model prediction that will shown in WebPage \n",
        "\n",
        "Best 3 Model are: \n",
        "\n",
        "*   Gaussian Naive Bayes Model\n",
        "*   Support Vector Machine\n",
        "*   Logistic Regression\n"
      ]
    },
    {
      "cell_type": "code",
      "metadata": {
        "id": "zQgGbeSl-LEv",
        "colab": {
          "base_uri": "https://localhost:8080/",
          "height": 17
        },
        "outputId": "e4f549a4-a7b1-4b36-d0f2-64c87727c500"
      },
      "source": [
        "# Write down variable name that give best unbiased accuracy (Open Section C. to know variable name)\n",
        "var_name_1 = nb\n",
        "var_name_2 = svc\n",
        "var_name_3 = lr\n",
        "\n",
        "\n",
        "# Write down the name of pickle file that will be used for each model \n",
        "pkl_name_1 = \"modelnb_mmr.pkl\"\n",
        "pkl_name_2 = \"modelsvc_mmr.pkl\"\n",
        "pkl_name_3 = \"modellr_mmr.pkl\"\n",
        "\n",
        "\n",
        "# Convert the variable name and pickle file name to dictionary\n",
        "dict = {'Variable Name 1': var_name_1, 'pkl file name 1': pkl_name_1,\n",
        "        'Variable Name 2': var_name_2, 'pkl file name 2': pkl_name_2,\n",
        "        'Variable Name 3': var_name_3, 'pkl file name 3': pkl_name_3\n",
        "        }\n",
        "\n",
        "# Downloading 4 Best Model to Local Files\n",
        "\n",
        "import pickle\n",
        "pickle.dump(dict['Variable Name 1'], open(dict['pkl file name 1'],\"wb\"))\n",
        "pickle.dump(dict['Variable Name 2'], open(dict['pkl file name 2'],\"wb\"))\n",
        "pickle.dump(dict['Variable Name 3'], open(dict['pkl file name 3'],\"wb\"))\n",
        "\n",
        "\n",
        "from google.colab import files\n",
        "files.download(dict['pkl file name 1'])\n",
        "files.download(dict['pkl file name 2'])\n",
        "files.download(dict['pkl file name 3'])"
      ],
      "execution_count": null,
      "outputs": [
        {
          "output_type": "display_data",
          "data": {
            "application/javascript": [
              "\n",
              "    async function download(id, filename, size) {\n",
              "      if (!google.colab.kernel.accessAllowed) {\n",
              "        return;\n",
              "      }\n",
              "      const div = document.createElement('div');\n",
              "      const label = document.createElement('label');\n",
              "      label.textContent = `Downloading \"${filename}\": `;\n",
              "      div.appendChild(label);\n",
              "      const progress = document.createElement('progress');\n",
              "      progress.max = size;\n",
              "      div.appendChild(progress);\n",
              "      document.body.appendChild(div);\n",
              "\n",
              "      const buffers = [];\n",
              "      let downloaded = 0;\n",
              "\n",
              "      const channel = await google.colab.kernel.comms.open(id);\n",
              "      // Send a message to notify the kernel that we're ready.\n",
              "      channel.send({})\n",
              "\n",
              "      for await (const message of channel.messages) {\n",
              "        // Send a message to notify the kernel that we're ready.\n",
              "        channel.send({})\n",
              "        if (message.buffers) {\n",
              "          for (const buffer of message.buffers) {\n",
              "            buffers.push(buffer);\n",
              "            downloaded += buffer.byteLength;\n",
              "            progress.value = downloaded;\n",
              "          }\n",
              "        }\n",
              "      }\n",
              "      const blob = new Blob(buffers, {type: 'application/binary'});\n",
              "      const a = document.createElement('a');\n",
              "      a.href = window.URL.createObjectURL(blob);\n",
              "      a.download = filename;\n",
              "      div.appendChild(a);\n",
              "      a.click();\n",
              "      div.remove();\n",
              "    }\n",
              "  "
            ],
            "text/plain": [
              "<IPython.core.display.Javascript object>"
            ]
          },
          "metadata": {}
        },
        {
          "output_type": "display_data",
          "data": {
            "application/javascript": [
              "download(\"download_ce994a33-f16e-4dfa-b07c-b7d72ae82843\", \"modelnb_mmr.pkl\", 3773)"
            ],
            "text/plain": [
              "<IPython.core.display.Javascript object>"
            ]
          },
          "metadata": {}
        },
        {
          "output_type": "display_data",
          "data": {
            "application/javascript": [
              "\n",
              "    async function download(id, filename, size) {\n",
              "      if (!google.colab.kernel.accessAllowed) {\n",
              "        return;\n",
              "      }\n",
              "      const div = document.createElement('div');\n",
              "      const label = document.createElement('label');\n",
              "      label.textContent = `Downloading \"${filename}\": `;\n",
              "      div.appendChild(label);\n",
              "      const progress = document.createElement('progress');\n",
              "      progress.max = size;\n",
              "      div.appendChild(progress);\n",
              "      document.body.appendChild(div);\n",
              "\n",
              "      const buffers = [];\n",
              "      let downloaded = 0;\n",
              "\n",
              "      const channel = await google.colab.kernel.comms.open(id);\n",
              "      // Send a message to notify the kernel that we're ready.\n",
              "      channel.send({})\n",
              "\n",
              "      for await (const message of channel.messages) {\n",
              "        // Send a message to notify the kernel that we're ready.\n",
              "        channel.send({})\n",
              "        if (message.buffers) {\n",
              "          for (const buffer of message.buffers) {\n",
              "            buffers.push(buffer);\n",
              "            downloaded += buffer.byteLength;\n",
              "            progress.value = downloaded;\n",
              "          }\n",
              "        }\n",
              "      }\n",
              "      const blob = new Blob(buffers, {type: 'application/binary'});\n",
              "      const a = document.createElement('a');\n",
              "      a.href = window.URL.createObjectURL(blob);\n",
              "      a.download = filename;\n",
              "      div.appendChild(a);\n",
              "      a.click();\n",
              "      div.remove();\n",
              "    }\n",
              "  "
            ],
            "text/plain": [
              "<IPython.core.display.Javascript object>"
            ]
          },
          "metadata": {}
        },
        {
          "output_type": "display_data",
          "data": {
            "application/javascript": [
              "download(\"download_85f621e1-e6e6-449b-983e-a922f8dbec5f\", \"modelsvc_mmr.pkl\", 43189)"
            ],
            "text/plain": [
              "<IPython.core.display.Javascript object>"
            ]
          },
          "metadata": {}
        },
        {
          "output_type": "display_data",
          "data": {
            "application/javascript": [
              "\n",
              "    async function download(id, filename, size) {\n",
              "      if (!google.colab.kernel.accessAllowed) {\n",
              "        return;\n",
              "      }\n",
              "      const div = document.createElement('div');\n",
              "      const label = document.createElement('label');\n",
              "      label.textContent = `Downloading \"${filename}\": `;\n",
              "      div.appendChild(label);\n",
              "      const progress = document.createElement('progress');\n",
              "      progress.max = size;\n",
              "      div.appendChild(progress);\n",
              "      document.body.appendChild(div);\n",
              "\n",
              "      const buffers = [];\n",
              "      let downloaded = 0;\n",
              "\n",
              "      const channel = await google.colab.kernel.comms.open(id);\n",
              "      // Send a message to notify the kernel that we're ready.\n",
              "      channel.send({})\n",
              "\n",
              "      for await (const message of channel.messages) {\n",
              "        // Send a message to notify the kernel that we're ready.\n",
              "        channel.send({})\n",
              "        if (message.buffers) {\n",
              "          for (const buffer of message.buffers) {\n",
              "            buffers.push(buffer);\n",
              "            downloaded += buffer.byteLength;\n",
              "            progress.value = downloaded;\n",
              "          }\n",
              "        }\n",
              "      }\n",
              "      const blob = new Blob(buffers, {type: 'application/binary'});\n",
              "      const a = document.createElement('a');\n",
              "      a.href = window.URL.createObjectURL(blob);\n",
              "      a.download = filename;\n",
              "      div.appendChild(a);\n",
              "      a.click();\n",
              "      div.remove();\n",
              "    }\n",
              "  "
            ],
            "text/plain": [
              "<IPython.core.display.Javascript object>"
            ]
          },
          "metadata": {}
        },
        {
          "output_type": "display_data",
          "data": {
            "application/javascript": [
              "download(\"download_00a49517-cbe0-4d8b-8aba-23d418166ad0\", \"modellr_mmr.pkl\", 4744)"
            ],
            "text/plain": [
              "<IPython.core.display.Javascript object>"
            ]
          },
          "metadata": {}
        }
      ]
    }
  ]
}